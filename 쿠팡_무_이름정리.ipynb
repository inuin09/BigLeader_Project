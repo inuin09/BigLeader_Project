{
  "nbformat": 4,
  "nbformat_minor": 0,
  "metadata": {
    "colab": {
      "name": "무.ipynb",
      "provenance": [],
      "authorship_tag": "ABX9TyNxEOEkoJ2HR2Ou+N0QiHLK",
      "include_colab_link": true
    },
    "kernelspec": {
      "name": "python3",
      "display_name": "Python 3"
    },
    "language_info": {
      "name": "python"
    }
  },
  "cells": [
    {
      "cell_type": "markdown",
      "metadata": {
        "id": "view-in-github",
        "colab_type": "text"
      },
      "source": [
        "<a href=\"https://colab.research.google.com/github/inuin09/BigLeader_Project/blob/main/%EC%BF%A0%ED%8C%A1_%EB%AC%B4_%EC%9D%B4%EB%A6%84%EC%A0%95%EB%A6%AC.ipynb\" target=\"_parent\"><img src=\"https://colab.research.google.com/assets/colab-badge.svg\" alt=\"Open In Colab\"/></a>"
      ]
    },
    {
      "cell_type": "code",
      "metadata": {
        "id": "BH5TAshXHnud"
      },
      "source": [
        "from google.colab import drive"
      ],
      "execution_count": 1,
      "outputs": []
    },
    {
      "cell_type": "code",
      "metadata": {
        "colab": {
          "base_uri": "https://localhost:8080/"
        },
        "id": "aX0dOmPURtB-",
        "outputId": "14ce96fe-e73a-4a9b-e27b-031040776ddf"
      },
      "source": [
        "drive.mount('/content/drive')"
      ],
      "execution_count": 2,
      "outputs": [
        {
          "output_type": "stream",
          "text": [
            "Mounted at /content/drive\n"
          ],
          "name": "stdout"
        }
      ]
    },
    {
      "cell_type": "code",
      "metadata": {
        "id": "zhHw6vhWwBq_"
      },
      "source": [
        "import pandas as pd"
      ],
      "execution_count": 6,
      "outputs": []
    },
    {
      "cell_type": "code",
      "metadata": {
        "id": "XRO6iXodR1oC"
      },
      "source": [
        "train_df = pd.read_csv('/content/drive/MyDrive/쿠팡_무_이름.csv')"
      ],
      "execution_count": 15,
      "outputs": []
    },
    {
      "cell_type": "code",
      "metadata": {
        "colab": {
          "base_uri": "https://localhost:8080/",
          "height": 417
        },
        "id": "m55PpEDzz4Zt",
        "outputId": "909d05ca-a9c5-4bb7-a9a7-7a041cabb65a"
      },
      "source": [
        "train_df"
      ],
      "execution_count": 16,
      "outputs": [
        {
          "output_type": "execute_result",
          "data": {
            "text/html": [
              "<div>\n",
              "<style scoped>\n",
              "    .dataframe tbody tr th:only-of-type {\n",
              "        vertical-align: middle;\n",
              "    }\n",
              "\n",
              "    .dataframe tbody tr th {\n",
              "        vertical-align: top;\n",
              "    }\n",
              "\n",
              "    .dataframe thead th {\n",
              "        text-align: right;\n",
              "    }\n",
              "</style>\n",
              "<table border=\"1\" class=\"dataframe\">\n",
              "  <thead>\n",
              "    <tr style=\"text-align: right;\">\n",
              "      <th></th>\n",
              "      <th>제품명</th>\n",
              "    </tr>\n",
              "  </thead>\n",
              "  <tbody>\n",
              "    <tr>\n",
              "      <th>0</th>\n",
              "      <td>\\n    곰곰 친환경인증 절단 무, 500g, 1개\\n</td>\n",
              "    </tr>\n",
              "    <tr>\n",
              "      <th>1</th>\n",
              "      <td>\\n    햇 무 1개 1.5kg내외 팔팔마켓 강원도 큰 무우, kg\\n</td>\n",
              "    </tr>\n",
              "    <tr>\n",
              "      <th>2</th>\n",
              "      <td>\\n    무 고랭지 흙 무우 5kg 3개-4개 (택1) 아삭아삭, 단품\\n</td>\n",
              "    </tr>\n",
              "    <tr>\n",
              "      <th>3</th>\n",
              "      <td>\\n    제주무 5kg 10kg 월동무 세척무 겨울무 무 제주월동 햇무 한박스 무...</td>\n",
              "    </tr>\n",
              "    <tr>\n",
              "      <th>4</th>\n",
              "      <td>\\n    국내산 맛있는 햇 무, 1박스, 5kg\\n</td>\n",
              "    </tr>\n",
              "    <tr>\n",
              "      <th>...</th>\n",
              "      <td>...</td>\n",
              "    </tr>\n",
              "    <tr>\n",
              "      <th>655</th>\n",
              "      <td>\\n    친환경인증 무 1입, 1개\\n</td>\n",
              "    </tr>\n",
              "    <tr>\n",
              "      <th>656</th>\n",
              "      <td>\\n    친환경 인증 국내산 절단무, 400g, 1개\\n</td>\n",
              "    </tr>\n",
              "    <tr>\n",
              "      <th>657</th>\n",
              "      <td>\\n    국내산 햇무, 900g, 1개\\n</td>\n",
              "    </tr>\n",
              "    <tr>\n",
              "      <th>658</th>\n",
              "      <td>\\n    곰곰 친환경 무, 1kg, 1개\\n</td>\n",
              "    </tr>\n",
              "    <tr>\n",
              "      <th>659</th>\n",
              "      <td>\\n    국내산 햇 무, 1입, 1개\\n</td>\n",
              "    </tr>\n",
              "  </tbody>\n",
              "</table>\n",
              "<p>660 rows × 1 columns</p>\n",
              "</div>"
            ],
            "text/plain": [
              "                                                   제품명\n",
              "0                      \\n    곰곰 친환경인증 절단 무, 500g, 1개\\n\n",
              "1             \\n    햇 무 1개 1.5kg내외 팔팔마켓 강원도 큰 무우, kg\\n\n",
              "2           \\n    무 고랭지 흙 무우 5kg 3개-4개 (택1) 아삭아삭, 단품\\n\n",
              "3    \\n    제주무 5kg 10kg 월동무 세척무 겨울무 무 제주월동 햇무 한박스 무...\n",
              "4                        \\n    국내산 맛있는 햇 무, 1박스, 5kg\\n\n",
              "..                                                 ...\n",
              "655                             \\n    친환경인증 무 1입, 1개\\n\n",
              "656                   \\n    친환경 인증 국내산 절단무, 400g, 1개\\n\n",
              "657                           \\n    국내산 햇무, 900g, 1개\\n\n",
              "658                          \\n    곰곰 친환경 무, 1kg, 1개\\n\n",
              "659                            \\n    국내산 햇 무, 1입, 1개\\n\n",
              "\n",
              "[660 rows x 1 columns]"
            ]
          },
          "metadata": {},
          "execution_count": 16
        }
      ]
    },
    {
      "cell_type": "code",
      "metadata": {
        "colab": {
          "base_uri": "https://localhost:8080/",
          "height": 417
        },
        "id": "Tx5aU3fgz5Dn",
        "outputId": "136aad32-62e4-4a89-e19b-d78a9bdc6eba"
      },
      "source": [
        "train_df"
      ],
      "execution_count": 19,
      "outputs": [
        {
          "output_type": "execute_result",
          "data": {
            "text/html": [
              "<div>\n",
              "<style scoped>\n",
              "    .dataframe tbody tr th:only-of-type {\n",
              "        vertical-align: middle;\n",
              "    }\n",
              "\n",
              "    .dataframe tbody tr th {\n",
              "        vertical-align: top;\n",
              "    }\n",
              "\n",
              "    .dataframe thead th {\n",
              "        text-align: right;\n",
              "    }\n",
              "</style>\n",
              "<table border=\"1\" class=\"dataframe\">\n",
              "  <thead>\n",
              "    <tr style=\"text-align: right;\">\n",
              "      <th></th>\n",
              "      <th>제품명</th>\n",
              "    </tr>\n",
              "  </thead>\n",
              "  <tbody>\n",
              "    <tr>\n",
              "      <th>0</th>\n",
              "      <td>\\n    곰곰 친환경인증 절단 무, 500g, 1개\\n</td>\n",
              "    </tr>\n",
              "    <tr>\n",
              "      <th>1</th>\n",
              "      <td>\\n    햇 무 1개 1.5kg내외 팔팔마켓 강원도 큰 무우, kg\\n</td>\n",
              "    </tr>\n",
              "    <tr>\n",
              "      <th>2</th>\n",
              "      <td>\\n    무 고랭지 흙 무우 5kg 3개-4개 (택1) 아삭아삭, 단품\\n</td>\n",
              "    </tr>\n",
              "    <tr>\n",
              "      <th>3</th>\n",
              "      <td>\\n    제주무 5kg 10kg 월동무 세척무 겨울무 무 제주월동 햇무 한박스 무...</td>\n",
              "    </tr>\n",
              "    <tr>\n",
              "      <th>4</th>\n",
              "      <td>\\n    국내산 맛있는 햇 무, 1박스, 5kg\\n</td>\n",
              "    </tr>\n",
              "    <tr>\n",
              "      <th>...</th>\n",
              "      <td>...</td>\n",
              "    </tr>\n",
              "    <tr>\n",
              "      <th>655</th>\n",
              "      <td>\\n    친환경인증 무 1입, 1개\\n</td>\n",
              "    </tr>\n",
              "    <tr>\n",
              "      <th>656</th>\n",
              "      <td>\\n    친환경 인증 국내산 절단무, 400g, 1개\\n</td>\n",
              "    </tr>\n",
              "    <tr>\n",
              "      <th>657</th>\n",
              "      <td>\\n    국내산 햇무, 900g, 1개\\n</td>\n",
              "    </tr>\n",
              "    <tr>\n",
              "      <th>658</th>\n",
              "      <td>\\n    곰곰 친환경 무, 1kg, 1개\\n</td>\n",
              "    </tr>\n",
              "    <tr>\n",
              "      <th>659</th>\n",
              "      <td>\\n    국내산 햇 무, 1입, 1개\\n</td>\n",
              "    </tr>\n",
              "  </tbody>\n",
              "</table>\n",
              "<p>660 rows × 1 columns</p>\n",
              "</div>"
            ],
            "text/plain": [
              "                                                   제품명\n",
              "0                      \\n    곰곰 친환경인증 절단 무, 500g, 1개\\n\n",
              "1             \\n    햇 무 1개 1.5kg내외 팔팔마켓 강원도 큰 무우, kg\\n\n",
              "2           \\n    무 고랭지 흙 무우 5kg 3개-4개 (택1) 아삭아삭, 단품\\n\n",
              "3    \\n    제주무 5kg 10kg 월동무 세척무 겨울무 무 제주월동 햇무 한박스 무...\n",
              "4                        \\n    국내산 맛있는 햇 무, 1박스, 5kg\\n\n",
              "..                                                 ...\n",
              "655                             \\n    친환경인증 무 1입, 1개\\n\n",
              "656                   \\n    친환경 인증 국내산 절단무, 400g, 1개\\n\n",
              "657                           \\n    국내산 햇무, 900g, 1개\\n\n",
              "658                          \\n    곰곰 친환경 무, 1kg, 1개\\n\n",
              "659                            \\n    국내산 햇 무, 1입, 1개\\n\n",
              "\n",
              "[660 rows x 1 columns]"
            ]
          },
          "metadata": {},
          "execution_count": 19
        }
      ]
    },
    {
      "cell_type": "code",
      "metadata": {
        "colab": {
          "base_uri": "https://localhost:8080/",
          "height": 417
        },
        "id": "eHTaBwnH05mH",
        "outputId": "d1790207-86f7-4c61-ddf5-e984e69744d9"
      },
      "source": [
        "train_df = train_df.replace('\\n','',regex=True)\n",
        "train_df"
      ],
      "execution_count": 20,
      "outputs": [
        {
          "output_type": "execute_result",
          "data": {
            "text/html": [
              "<div>\n",
              "<style scoped>\n",
              "    .dataframe tbody tr th:only-of-type {\n",
              "        vertical-align: middle;\n",
              "    }\n",
              "\n",
              "    .dataframe tbody tr th {\n",
              "        vertical-align: top;\n",
              "    }\n",
              "\n",
              "    .dataframe thead th {\n",
              "        text-align: right;\n",
              "    }\n",
              "</style>\n",
              "<table border=\"1\" class=\"dataframe\">\n",
              "  <thead>\n",
              "    <tr style=\"text-align: right;\">\n",
              "      <th></th>\n",
              "      <th>제품명</th>\n",
              "    </tr>\n",
              "  </thead>\n",
              "  <tbody>\n",
              "    <tr>\n",
              "      <th>0</th>\n",
              "      <td>곰곰 친환경인증 절단 무, 500g, 1개</td>\n",
              "    </tr>\n",
              "    <tr>\n",
              "      <th>1</th>\n",
              "      <td>햇 무 1개 1.5kg내외 팔팔마켓 강원도 큰 무우, kg</td>\n",
              "    </tr>\n",
              "    <tr>\n",
              "      <th>2</th>\n",
              "      <td>무 고랭지 흙 무우 5kg 3개-4개 (택1) 아삭아삭, 단품</td>\n",
              "    </tr>\n",
              "    <tr>\n",
              "      <th>3</th>\n",
              "      <td>제주무 5kg 10kg 월동무 세척무 겨울무 무 제주월동 햇무 한박스 무우,...</td>\n",
              "    </tr>\n",
              "    <tr>\n",
              "      <th>4</th>\n",
              "      <td>국내산 맛있는 햇 무, 1박스, 5kg</td>\n",
              "    </tr>\n",
              "    <tr>\n",
              "      <th>...</th>\n",
              "      <td>...</td>\n",
              "    </tr>\n",
              "    <tr>\n",
              "      <th>655</th>\n",
              "      <td>친환경인증 무 1입, 1개</td>\n",
              "    </tr>\n",
              "    <tr>\n",
              "      <th>656</th>\n",
              "      <td>친환경 인증 국내산 절단무, 400g, 1개</td>\n",
              "    </tr>\n",
              "    <tr>\n",
              "      <th>657</th>\n",
              "      <td>국내산 햇무, 900g, 1개</td>\n",
              "    </tr>\n",
              "    <tr>\n",
              "      <th>658</th>\n",
              "      <td>곰곰 친환경 무, 1kg, 1개</td>\n",
              "    </tr>\n",
              "    <tr>\n",
              "      <th>659</th>\n",
              "      <td>국내산 햇 무, 1입, 1개</td>\n",
              "    </tr>\n",
              "  </tbody>\n",
              "</table>\n",
              "<p>660 rows × 1 columns</p>\n",
              "</div>"
            ],
            "text/plain": [
              "                                                   제품명\n",
              "0                              곰곰 친환경인증 절단 무, 500g, 1개\n",
              "1                     햇 무 1개 1.5kg내외 팔팔마켓 강원도 큰 무우, kg\n",
              "2                   무 고랭지 흙 무우 5kg 3개-4개 (택1) 아삭아삭, 단품\n",
              "3        제주무 5kg 10kg 월동무 세척무 겨울무 무 제주월동 햇무 한박스 무우,...\n",
              "4                                국내산 맛있는 햇 무, 1박스, 5kg\n",
              "..                                                 ...\n",
              "655                                     친환경인증 무 1입, 1개\n",
              "656                           친환경 인증 국내산 절단무, 400g, 1개\n",
              "657                                   국내산 햇무, 900g, 1개\n",
              "658                                  곰곰 친환경 무, 1kg, 1개\n",
              "659                                    국내산 햇 무, 1입, 1개\n",
              "\n",
              "[660 rows x 1 columns]"
            ]
          },
          "metadata": {},
          "execution_count": 20
        }
      ]
    },
    {
      "cell_type": "code",
      "metadata": {
        "colab": {
          "base_uri": "https://localhost:8080/"
        },
        "id": "gJiICssc1WBE",
        "outputId": "92e13513-78fb-471a-fc4a-06c57ee1ce57"
      },
      "source": [
        "train_df = train_df[~train_df['제품명'].str.contains(\"절단무\",na=False, case=False)]\n",
        "train_df.info()"
      ],
      "execution_count": 21,
      "outputs": [
        {
          "output_type": "stream",
          "text": [
            "<class 'pandas.core.frame.DataFrame'>\n",
            "Int64Index: 658 entries, 0 to 659\n",
            "Data columns (total 1 columns):\n",
            " #   Column  Non-Null Count  Dtype \n",
            "---  ------  --------------  ----- \n",
            " 0   제품명     658 non-null    object\n",
            "dtypes: object(1)\n",
            "memory usage: 10.3+ KB\n"
          ],
          "name": "stdout"
        }
      ]
    },
    {
      "cell_type": "code",
      "metadata": {
        "colab": {
          "base_uri": "https://localhost:8080/",
          "height": 203
        },
        "id": "dxtGBoin1wNa",
        "outputId": "310963d0-a715-452f-bd44-5a71856654c8"
      },
      "source": [
        "train_df.tail()"
      ],
      "execution_count": 23,
      "outputs": [
        {
          "output_type": "execute_result",
          "data": {
            "text/html": [
              "<div>\n",
              "<style scoped>\n",
              "    .dataframe tbody tr th:only-of-type {\n",
              "        vertical-align: middle;\n",
              "    }\n",
              "\n",
              "    .dataframe tbody tr th {\n",
              "        vertical-align: top;\n",
              "    }\n",
              "\n",
              "    .dataframe thead th {\n",
              "        text-align: right;\n",
              "    }\n",
              "</style>\n",
              "<table border=\"1\" class=\"dataframe\">\n",
              "  <thead>\n",
              "    <tr style=\"text-align: right;\">\n",
              "      <th></th>\n",
              "      <th>제품명</th>\n",
              "    </tr>\n",
              "  </thead>\n",
              "  <tbody>\n",
              "    <tr>\n",
              "      <th>654</th>\n",
              "      <td>생가지 가지 2Kg내외(11~14개입) 경북봉화 산지발송, 1개, 2kg내외</td>\n",
              "    </tr>\n",
              "    <tr>\n",
              "      <th>655</th>\n",
              "      <td>친환경인증 무 1입, 1개</td>\n",
              "    </tr>\n",
              "    <tr>\n",
              "      <th>657</th>\n",
              "      <td>국내산 햇무, 900g, 1개</td>\n",
              "    </tr>\n",
              "    <tr>\n",
              "      <th>658</th>\n",
              "      <td>곰곰 친환경 무, 1kg, 1개</td>\n",
              "    </tr>\n",
              "    <tr>\n",
              "      <th>659</th>\n",
              "      <td>국내산 햇 무, 1입, 1개</td>\n",
              "    </tr>\n",
              "  </tbody>\n",
              "</table>\n",
              "</div>"
            ],
            "text/plain": [
              "                                                제품명\n",
              "654      생가지 가지 2Kg내외(11~14개입) 경북봉화 산지발송, 1개, 2kg내외\n",
              "655                                  친환경인증 무 1입, 1개\n",
              "657                                국내산 햇무, 900g, 1개\n",
              "658                               곰곰 친환경 무, 1kg, 1개\n",
              "659                                 국내산 햇 무, 1입, 1개"
            ]
          },
          "metadata": {},
          "execution_count": 23
        }
      ]
    },
    {
      "cell_type": "code",
      "metadata": {
        "colab": {
          "base_uri": "https://localhost:8080/",
          "height": 203
        },
        "id": "VmooDUgE17kC",
        "outputId": "9f0b4782-2554-41d7-f98a-b8eed1fd8741"
      },
      "source": [
        "df = train_df[train_df['제품명'].str.contains('무')]\n",
        "df.head()"
      ],
      "execution_count": 27,
      "outputs": [
        {
          "output_type": "execute_result",
          "data": {
            "text/html": [
              "<div>\n",
              "<style scoped>\n",
              "    .dataframe tbody tr th:only-of-type {\n",
              "        vertical-align: middle;\n",
              "    }\n",
              "\n",
              "    .dataframe tbody tr th {\n",
              "        vertical-align: top;\n",
              "    }\n",
              "\n",
              "    .dataframe thead th {\n",
              "        text-align: right;\n",
              "    }\n",
              "</style>\n",
              "<table border=\"1\" class=\"dataframe\">\n",
              "  <thead>\n",
              "    <tr style=\"text-align: right;\">\n",
              "      <th></th>\n",
              "      <th>제품명</th>\n",
              "    </tr>\n",
              "  </thead>\n",
              "  <tbody>\n",
              "    <tr>\n",
              "      <th>0</th>\n",
              "      <td>곰곰 친환경인증 절단 무, 500g, 1개</td>\n",
              "    </tr>\n",
              "    <tr>\n",
              "      <th>1</th>\n",
              "      <td>햇 무 1개 1.5kg내외 팔팔마켓 강원도 큰 무우, kg</td>\n",
              "    </tr>\n",
              "    <tr>\n",
              "      <th>2</th>\n",
              "      <td>무 고랭지 흙 무우 5kg 3개-4개 (택1) 아삭아삭, 단품</td>\n",
              "    </tr>\n",
              "    <tr>\n",
              "      <th>3</th>\n",
              "      <td>제주무 5kg 10kg 월동무 세척무 겨울무 무 제주월동 햇무 한박스 무우,...</td>\n",
              "    </tr>\n",
              "    <tr>\n",
              "      <th>4</th>\n",
              "      <td>국내산 맛있는 햇 무, 1박스, 5kg</td>\n",
              "    </tr>\n",
              "  </tbody>\n",
              "</table>\n",
              "</div>"
            ],
            "text/plain": [
              "                                                 제품명\n",
              "0                            곰곰 친환경인증 절단 무, 500g, 1개\n",
              "1                   햇 무 1개 1.5kg내외 팔팔마켓 강원도 큰 무우, kg\n",
              "2                 무 고랭지 흙 무우 5kg 3개-4개 (택1) 아삭아삭, 단품\n",
              "3      제주무 5kg 10kg 월동무 세척무 겨울무 무 제주월동 햇무 한박스 무우,...\n",
              "4                              국내산 맛있는 햇 무, 1박스, 5kg"
            ]
          },
          "metadata": {},
          "execution_count": 27
        }
      ]
    },
    {
      "cell_type": "code",
      "metadata": {
        "colab": {
          "base_uri": "https://localhost:8080/",
          "height": 203
        },
        "id": "jbOb6yOg2ZZZ",
        "outputId": "e276b620-5f45-4cdd-d6fa-1dbd5349fc98"
      },
      "source": [
        "df.tail()"
      ],
      "execution_count": 28,
      "outputs": [
        {
          "output_type": "execute_result",
          "data": {
            "text/html": [
              "<div>\n",
              "<style scoped>\n",
              "    .dataframe tbody tr th:only-of-type {\n",
              "        vertical-align: middle;\n",
              "    }\n",
              "\n",
              "    .dataframe tbody tr th {\n",
              "        vertical-align: top;\n",
              "    }\n",
              "\n",
              "    .dataframe thead th {\n",
              "        text-align: right;\n",
              "    }\n",
              "</style>\n",
              "<table border=\"1\" class=\"dataframe\">\n",
              "  <thead>\n",
              "    <tr style=\"text-align: right;\">\n",
              "      <th></th>\n",
              "      <th>제품명</th>\n",
              "    </tr>\n",
              "  </thead>\n",
              "  <tbody>\n",
              "    <tr>\n",
              "      <th>652</th>\n",
              "      <td>국내산 무, 900g이상, 1개</td>\n",
              "    </tr>\n",
              "    <tr>\n",
              "      <th>655</th>\n",
              "      <td>친환경인증 무 1입, 1개</td>\n",
              "    </tr>\n",
              "    <tr>\n",
              "      <th>657</th>\n",
              "      <td>국내산 햇무, 900g, 1개</td>\n",
              "    </tr>\n",
              "    <tr>\n",
              "      <th>658</th>\n",
              "      <td>곰곰 친환경 무, 1kg, 1개</td>\n",
              "    </tr>\n",
              "    <tr>\n",
              "      <th>659</th>\n",
              "      <td>국내산 햇 무, 1입, 1개</td>\n",
              "    </tr>\n",
              "  </tbody>\n",
              "</table>\n",
              "</div>"
            ],
            "text/plain": [
              "                       제품명\n",
              "652      국내산 무, 900g이상, 1개\n",
              "655         친환경인증 무 1입, 1개\n",
              "657       국내산 햇무, 900g, 1개\n",
              "658      곰곰 친환경 무, 1kg, 1개\n",
              "659        국내산 햇 무, 1입, 1개"
            ]
          },
          "metadata": {},
          "execution_count": 28
        }
      ]
    },
    {
      "cell_type": "code",
      "metadata": {
        "colab": {
          "base_uri": "https://localhost:8080/"
        },
        "id": "bpS5AwcT2vWa",
        "outputId": "0da82dba-1398-4c3d-efba-94f2deb8429f"
      },
      "source": [
        "df.info()"
      ],
      "execution_count": 29,
      "outputs": [
        {
          "output_type": "stream",
          "text": [
            "<class 'pandas.core.frame.DataFrame'>\n",
            "Int64Index: 459 entries, 0 to 659\n",
            "Data columns (total 1 columns):\n",
            " #   Column  Non-Null Count  Dtype \n",
            "---  ------  --------------  ----- \n",
            " 0   제품명     459 non-null    object\n",
            "dtypes: object(1)\n",
            "memory usage: 7.2+ KB\n"
          ],
          "name": "stdout"
        }
      ]
    },
    {
      "cell_type": "code",
      "metadata": {
        "colab": {
          "base_uri": "https://localhost:8080/"
        },
        "id": "VdO2LAox2wfi",
        "outputId": "3ade62cb-9e12-4785-82c8-9b30558ac410"
      },
      "source": [
        "#총 상품의 수\n",
        "len(df)"
      ],
      "execution_count": 31,
      "outputs": [
        {
          "output_type": "execute_result",
          "data": {
            "text/plain": [
              "459"
            ]
          },
          "metadata": {},
          "execution_count": 31
        }
      ]
    },
    {
      "cell_type": "code",
      "metadata": {
        "colab": {
          "base_uri": "https://localhost:8080/"
        },
        "id": "lO1IBKIL23fI",
        "outputId": "70fabe43-ad7b-4211-aeb0-aabc75d62745"
      },
      "source": [
        "type(df)"
      ],
      "execution_count": 32,
      "outputs": [
        {
          "output_type": "execute_result",
          "data": {
            "text/plain": [
              "pandas.core.frame.DataFrame"
            ]
          },
          "metadata": {},
          "execution_count": 32
        }
      ]
    },
    {
      "cell_type": "code",
      "metadata": {
        "id": "XUkk2q4E3J2T"
      },
      "source": [
        "df.to_csv('무이름1.csv',mode='w',encoding='utf-8-sig')"
      ],
      "execution_count": 34,
      "outputs": []
    },
    {
      "cell_type": "code",
      "metadata": {
        "colab": {
          "base_uri": "https://localhost:8080/"
        },
        "id": "ZyXO1zwl3RBJ",
        "outputId": "9758879f-b540-4254-acce-989dd71ceadc"
      },
      "source": [
        "df = df[~df['제품명'].str.contains(\"중국청무\",na=False, case=False)]\n",
        "df.info()"
      ],
      "execution_count": 35,
      "outputs": [
        {
          "output_type": "stream",
          "text": [
            "<class 'pandas.core.frame.DataFrame'>\n",
            "Int64Index: 455 entries, 0 to 659\n",
            "Data columns (total 1 columns):\n",
            " #   Column  Non-Null Count  Dtype \n",
            "---  ------  --------------  ----- \n",
            " 0   제품명     455 non-null    object\n",
            "dtypes: object(1)\n",
            "memory usage: 7.1+ KB\n"
          ],
          "name": "stdout"
        }
      ]
    },
    {
      "cell_type": "code",
      "metadata": {
        "colab": {
          "base_uri": "https://localhost:8080/"
        },
        "id": "XOQ5dVxy341K",
        "outputId": "5343ce07-872e-459a-9aff-79f9d51d0793"
      },
      "source": [
        "df = df[~df['제품명'].str.contains(\"알타리\",na=False, case=False)]\n",
        "df.info()"
      ],
      "execution_count": 36,
      "outputs": [
        {
          "output_type": "stream",
          "text": [
            "<class 'pandas.core.frame.DataFrame'>\n",
            "Int64Index: 422 entries, 0 to 659\n",
            "Data columns (total 1 columns):\n",
            " #   Column  Non-Null Count  Dtype \n",
            "---  ------  --------------  ----- \n",
            " 0   제품명     422 non-null    object\n",
            "dtypes: object(1)\n",
            "memory usage: 6.6+ KB\n"
          ],
          "name": "stdout"
        }
      ]
    },
    {
      "cell_type": "code",
      "metadata": {
        "colab": {
          "base_uri": "https://localhost:8080/"
        },
        "id": "4QkfmG0L37h4",
        "outputId": "c5483cef-4aeb-4584-84f8-ce5c4e94f60b"
      },
      "source": [
        "df = df[~df['제품명'].str.contains(\"총각무\",na=False, case=False)]\n",
        "df.info()"
      ],
      "execution_count": 37,
      "outputs": [
        {
          "output_type": "stream",
          "text": [
            "<class 'pandas.core.frame.DataFrame'>\n",
            "Int64Index: 422 entries, 0 to 659\n",
            "Data columns (total 1 columns):\n",
            " #   Column  Non-Null Count  Dtype \n",
            "---  ------  --------------  ----- \n",
            " 0   제품명     422 non-null    object\n",
            "dtypes: object(1)\n",
            "memory usage: 6.6+ KB\n"
          ],
          "name": "stdout"
        }
      ]
    },
    {
      "cell_type": "code",
      "metadata": {
        "colab": {
          "base_uri": "https://localhost:8080/"
        },
        "id": "RcXZjddh3-H_",
        "outputId": "be55a6a1-10e6-4afc-d2ea-500e2e93e3d8"
      },
      "source": [
        "df = df[~df['제품명'].str.contains(\"초롱무\",na=False, case=False)]\n",
        "df.info()"
      ],
      "execution_count": 38,
      "outputs": [
        {
          "output_type": "stream",
          "text": [
            "<class 'pandas.core.frame.DataFrame'>\n",
            "Int64Index: 420 entries, 0 to 659\n",
            "Data columns (total 1 columns):\n",
            " #   Column  Non-Null Count  Dtype \n",
            "---  ------  --------------  ----- \n",
            " 0   제품명     420 non-null    object\n",
            "dtypes: object(1)\n",
            "memory usage: 6.6+ KB\n"
          ],
          "name": "stdout"
        }
      ]
    },
    {
      "cell_type": "code",
      "metadata": {
        "colab": {
          "base_uri": "https://localhost:8080/"
        },
        "id": "A8KlC_9G4Aea",
        "outputId": "984e224c-9d31-45b0-c81d-b7883532b6b6"
      },
      "source": [
        "df = df[~df['제품명'].str.contains(\"시래기\",na=False, case=False)]\n",
        "df.info()"
      ],
      "execution_count": 39,
      "outputs": [
        {
          "output_type": "stream",
          "text": [
            "<class 'pandas.core.frame.DataFrame'>\n",
            "Int64Index: 401 entries, 0 to 659\n",
            "Data columns (total 1 columns):\n",
            " #   Column  Non-Null Count  Dtype \n",
            "---  ------  --------------  ----- \n",
            " 0   제품명     401 non-null    object\n",
            "dtypes: object(1)\n",
            "memory usage: 6.3+ KB\n"
          ],
          "name": "stdout"
        }
      ]
    },
    {
      "cell_type": "code",
      "metadata": {
        "colab": {
          "base_uri": "https://localhost:8080/"
        },
        "id": "zdB563ku4Chu",
        "outputId": "d5d88069-68ef-422f-d7b0-2ec725eed91d"
      },
      "source": [
        "df = df[~df['제품명'].str.contains(\"무말랭이\",na=False, case=False)]\n",
        "df.info()"
      ],
      "execution_count": 40,
      "outputs": [
        {
          "output_type": "stream",
          "text": [
            "<class 'pandas.core.frame.DataFrame'>\n",
            "Int64Index: 342 entries, 0 to 659\n",
            "Data columns (total 1 columns):\n",
            " #   Column  Non-Null Count  Dtype \n",
            "---  ------  --------------  ----- \n",
            " 0   제품명     342 non-null    object\n",
            "dtypes: object(1)\n",
            "memory usage: 5.3+ KB\n"
          ],
          "name": "stdout"
        }
      ]
    },
    {
      "cell_type": "code",
      "metadata": {
        "id": "GHLEGmsI4E0o"
      },
      "source": [
        "df.to_csv('무이름2.csv',mode='w',encoding='utf-8-sig')"
      ],
      "execution_count": 41,
      "outputs": []
    },
    {
      "cell_type": "code",
      "metadata": {
        "colab": {
          "base_uri": "https://localhost:8080/"
        },
        "id": "BLFmdfvn4IfK",
        "outputId": "8ad55ea6-abd6-4d90-ba31-0054e675aa43"
      },
      "source": [
        "df = df[~df['제품명'].str.contains(\"절단 무\",na=False, case=False)]\n",
        "df.info()"
      ],
      "execution_count": 42,
      "outputs": [
        {
          "output_type": "stream",
          "text": [
            "<class 'pandas.core.frame.DataFrame'>\n",
            "Int64Index: 338 entries, 1 to 659\n",
            "Data columns (total 1 columns):\n",
            " #   Column  Non-Null Count  Dtype \n",
            "---  ------  --------------  ----- \n",
            " 0   제품명     338 non-null    object\n",
            "dtypes: object(1)\n",
            "memory usage: 5.3+ KB\n"
          ],
          "name": "stdout"
        }
      ]
    },
    {
      "cell_type": "code",
      "metadata": {
        "colab": {
          "base_uri": "https://localhost:8080/"
        },
        "id": "OP2itzCf4jza",
        "outputId": "6953c03f-f0e0-4734-83e5-1b2cd17569d5"
      },
      "source": [
        "df = df[~df['제품명'].str.contains(\"나박썰기\",na=False, case=False)]\n",
        "df.info()"
      ],
      "execution_count": 43,
      "outputs": [
        {
          "output_type": "stream",
          "text": [
            "<class 'pandas.core.frame.DataFrame'>\n",
            "Int64Index: 334 entries, 1 to 659\n",
            "Data columns (total 1 columns):\n",
            " #   Column  Non-Null Count  Dtype \n",
            "---  ------  --------------  ----- \n",
            " 0   제품명     334 non-null    object\n",
            "dtypes: object(1)\n",
            "memory usage: 5.2+ KB\n"
          ],
          "name": "stdout"
        }
      ]
    },
    {
      "cell_type": "code",
      "metadata": {
        "colab": {
          "base_uri": "https://localhost:8080/"
        },
        "id": "yaFp-fVf4mQy",
        "outputId": "689fb0cb-a3b4-4625-fc4a-ce395084e469"
      },
      "source": [
        "df = df[~df['제품명'].str.contains(\"순무\",na=False, case=False)]\n",
        "df.info()"
      ],
      "execution_count": 44,
      "outputs": [
        {
          "output_type": "stream",
          "text": [
            "<class 'pandas.core.frame.DataFrame'>\n",
            "Int64Index: 315 entries, 1 to 659\n",
            "Data columns (total 1 columns):\n",
            " #   Column  Non-Null Count  Dtype \n",
            "---  ------  --------------  ----- \n",
            " 0   제품명     315 non-null    object\n",
            "dtypes: object(1)\n",
            "memory usage: 4.9+ KB\n"
          ],
          "name": "stdout"
        }
      ]
    },
    {
      "cell_type": "code",
      "metadata": {
        "colab": {
          "base_uri": "https://localhost:8080/"
        },
        "id": "34tMbGxk4oZ4",
        "outputId": "41225233-f641-4256-f707-391bbed812d0"
      },
      "source": [
        "df = df[~df['제품명'].str.contains(\"건비트\",na=False, case=False)]\n",
        "df.info()"
      ],
      "execution_count": 45,
      "outputs": [
        {
          "output_type": "stream",
          "text": [
            "<class 'pandas.core.frame.DataFrame'>\n",
            "Int64Index: 313 entries, 1 to 659\n",
            "Data columns (total 1 columns):\n",
            " #   Column  Non-Null Count  Dtype \n",
            "---  ------  --------------  ----- \n",
            " 0   제품명     313 non-null    object\n",
            "dtypes: object(1)\n",
            "memory usage: 4.9+ KB\n"
          ],
          "name": "stdout"
        }
      ]
    },
    {
      "cell_type": "code",
      "metadata": {
        "colab": {
          "base_uri": "https://localhost:8080/"
        },
        "id": "h7MEzTRp4qps",
        "outputId": "5638989d-c87b-4c46-824f-6473cf8868cd"
      },
      "source": [
        "df = df[~df['제품명'].str.contains(\"청무칩\",na=False, case=False)]\n",
        "df.info()"
      ],
      "execution_count": 46,
      "outputs": [
        {
          "output_type": "stream",
          "text": [
            "<class 'pandas.core.frame.DataFrame'>\n",
            "Int64Index: 310 entries, 1 to 659\n",
            "Data columns (total 1 columns):\n",
            " #   Column  Non-Null Count  Dtype \n",
            "---  ------  --------------  ----- \n",
            " 0   제품명     310 non-null    object\n",
            "dtypes: object(1)\n",
            "memory usage: 4.8+ KB\n"
          ],
          "name": "stdout"
        }
      ]
    },
    {
      "cell_type": "code",
      "metadata": {
        "id": "vxbivb_24st0"
      },
      "source": [
        "df.to_csv('무이름3.csv',mode='w',encoding='utf-8-sig')"
      ],
      "execution_count": 47,
      "outputs": []
    },
    {
      "cell_type": "code",
      "metadata": {
        "colab": {
          "base_uri": "https://localhost:8080/"
        },
        "id": "2pRkhQjZ4vxh",
        "outputId": "4007eb0e-f626-4371-d1ec-2602c0344ab8"
      },
      "source": [
        "df = df[~df['제품명'].str.contains(\"수박무\",na=False, case=False)]\n",
        "df.info()"
      ],
      "execution_count": 48,
      "outputs": [
        {
          "output_type": "stream",
          "text": [
            "<class 'pandas.core.frame.DataFrame'>\n",
            "Int64Index: 297 entries, 1 to 659\n",
            "Data columns (total 1 columns):\n",
            " #   Column  Non-Null Count  Dtype \n",
            "---  ------  --------------  ----- \n",
            " 0   제품명     297 non-null    object\n",
            "dtypes: object(1)\n",
            "memory usage: 4.6+ KB\n"
          ],
          "name": "stdout"
        }
      ]
    },
    {
      "cell_type": "code",
      "metadata": {
        "colab": {
          "base_uri": "https://localhost:8080/"
        },
        "id": "e_VJlZoD5geK",
        "outputId": "5364b8ef-405b-4c19-c7d1-a2a2d5fc3cbf"
      },
      "source": [
        "df = df[~df['제품명'].str.contains(\"중국\",na=False, case=False)]\n",
        "df.info()"
      ],
      "execution_count": 49,
      "outputs": [
        {
          "output_type": "stream",
          "text": [
            "<class 'pandas.core.frame.DataFrame'>\n",
            "Int64Index: 286 entries, 1 to 659\n",
            "Data columns (total 1 columns):\n",
            " #   Column  Non-Null Count  Dtype \n",
            "---  ------  --------------  ----- \n",
            " 0   제품명     286 non-null    object\n",
            "dtypes: object(1)\n",
            "memory usage: 4.5+ KB\n"
          ],
          "name": "stdout"
        }
      ]
    },
    {
      "cell_type": "code",
      "metadata": {
        "colab": {
          "base_uri": "https://localhost:8080/"
        },
        "id": "e_yVCw_W5h_d",
        "outputId": "7f363fd7-9791-4f1c-fd80-872666325835"
      },
      "source": [
        "df = df[~df['제품명'].str.contains(\"무채썰기\",na=False, case=False)]\n",
        "df.info()"
      ],
      "execution_count": 50,
      "outputs": [
        {
          "output_type": "stream",
          "text": [
            "<class 'pandas.core.frame.DataFrame'>\n",
            "Int64Index: 283 entries, 1 to 659\n",
            "Data columns (total 1 columns):\n",
            " #   Column  Non-Null Count  Dtype \n",
            "---  ------  --------------  ----- \n",
            " 0   제품명     283 non-null    object\n",
            "dtypes: object(1)\n",
            "memory usage: 4.4+ KB\n"
          ],
          "name": "stdout"
        }
      ]
    },
    {
      "cell_type": "code",
      "metadata": {
        "colab": {
          "base_uri": "https://localhost:8080/"
        },
        "id": "Ky4PDkh45lBb",
        "outputId": "abae46a6-c86b-4066-885a-998c5b16df21"
      },
      "source": [
        "df = df[~df['제품명'].str.contains(\"베지맛포\",na=False, case=False)]\n",
        "df.info()"
      ],
      "execution_count": 51,
      "outputs": [
        {
          "output_type": "stream",
          "text": [
            "<class 'pandas.core.frame.DataFrame'>\n",
            "Int64Index: 282 entries, 1 to 659\n",
            "Data columns (total 1 columns):\n",
            " #   Column  Non-Null Count  Dtype \n",
            "---  ------  --------------  ----- \n",
            " 0   제품명     282 non-null    object\n",
            "dtypes: object(1)\n",
            "memory usage: 4.4+ KB\n"
          ],
          "name": "stdout"
        }
      ]
    },
    {
      "cell_type": "code",
      "metadata": {
        "colab": {
          "base_uri": "https://localhost:8080/"
        },
        "id": "FApE1pZC5m5y",
        "outputId": "736c0dd1-7366-4b54-81f0-374cca821cbf"
      },
      "source": [
        "df = df[~df['제품명'].str.contains(\"깍뚝썰기\",na=False, case=False)]\n",
        "df.info()"
      ],
      "execution_count": 52,
      "outputs": [
        {
          "output_type": "stream",
          "text": [
            "<class 'pandas.core.frame.DataFrame'>\n",
            "Int64Index: 280 entries, 1 to 659\n",
            "Data columns (total 1 columns):\n",
            " #   Column  Non-Null Count  Dtype \n",
            "---  ------  --------------  ----- \n",
            " 0   제품명     280 non-null    object\n",
            "dtypes: object(1)\n",
            "memory usage: 4.4+ KB\n"
          ],
          "name": "stdout"
        }
      ]
    },
    {
      "cell_type": "code",
      "metadata": {
        "colab": {
          "base_uri": "https://localhost:8080/"
        },
        "id": "ok6qcz_S5qRy",
        "outputId": "1ed8c837-7f77-4bec-e0ec-f720ae809bdb"
      },
      "source": [
        "df = df[~df['제품명'].str.contains(\"국거리용\",na=False, case=False)]\n",
        "df.info()"
      ],
      "execution_count": 53,
      "outputs": [
        {
          "output_type": "stream",
          "text": [
            "<class 'pandas.core.frame.DataFrame'>\n",
            "Int64Index: 278 entries, 1 to 659\n",
            "Data columns (total 1 columns):\n",
            " #   Column  Non-Null Count  Dtype \n",
            "---  ------  --------------  ----- \n",
            " 0   제품명     278 non-null    object\n",
            "dtypes: object(1)\n",
            "memory usage: 4.3+ KB\n"
          ],
          "name": "stdout"
        }
      ]
    },
    {
      "cell_type": "code",
      "metadata": {
        "id": "qnhAsns95sxS"
      },
      "source": [
        "df.to_csv('무이름4.csv',mode='w',encoding='utf-8-sig')"
      ],
      "execution_count": 54,
      "outputs": []
    },
    {
      "cell_type": "code",
      "metadata": {
        "colab": {
          "base_uri": "https://localhost:8080/"
        },
        "id": "PoX7-ltv5wej",
        "outputId": "87e723c3-8da4-4a72-b4ae-1df81b69a0be"
      },
      "source": [
        "df = df[~df['제품명'].str.contains(\"파프리카\",na=False, case=False)]\n",
        "df.info()"
      ],
      "execution_count": 55,
      "outputs": [
        {
          "output_type": "stream",
          "text": [
            "<class 'pandas.core.frame.DataFrame'>\n",
            "Int64Index: 277 entries, 1 to 659\n",
            "Data columns (total 1 columns):\n",
            " #   Column  Non-Null Count  Dtype \n",
            "---  ------  --------------  ----- \n",
            " 0   제품명     277 non-null    object\n",
            "dtypes: object(1)\n",
            "memory usage: 4.3+ KB\n"
          ],
          "name": "stdout"
        }
      ]
    },
    {
      "cell_type": "code",
      "metadata": {
        "colab": {
          "base_uri": "https://localhost:8080/"
        },
        "id": "D6h5VKkT6M7p",
        "outputId": "e827a8f8-0c18-4e0c-d374-72b6eae1f156"
      },
      "source": [
        "df = df[~df['제품명'].str.contains(\"피망\",na=False, case=False)]\n",
        "df.info()"
      ],
      "execution_count": 56,
      "outputs": [
        {
          "output_type": "stream",
          "text": [
            "<class 'pandas.core.frame.DataFrame'>\n",
            "Int64Index: 276 entries, 1 to 659\n",
            "Data columns (total 1 columns):\n",
            " #   Column  Non-Null Count  Dtype \n",
            "---  ------  --------------  ----- \n",
            " 0   제품명     276 non-null    object\n",
            "dtypes: object(1)\n",
            "memory usage: 4.3+ KB\n"
          ],
          "name": "stdout"
        }
      ]
    },
    {
      "cell_type": "code",
      "metadata": {
        "colab": {
          "base_uri": "https://localhost:8080/"
        },
        "id": "Xv-HTu2Z6PDX",
        "outputId": "a4c0e765-29ec-47ae-e58c-5503949a6e9a"
      },
      "source": [
        "df = df[~df['제품명'].str.contains(\"씨앗\",na=False, case=False)]\n",
        "df.info()"
      ],
      "execution_count": 57,
      "outputs": [
        {
          "output_type": "stream",
          "text": [
            "<class 'pandas.core.frame.DataFrame'>\n",
            "Int64Index: 235 entries, 1 to 659\n",
            "Data columns (total 1 columns):\n",
            " #   Column  Non-Null Count  Dtype \n",
            "---  ------  --------------  ----- \n",
            " 0   제품명     235 non-null    object\n",
            "dtypes: object(1)\n",
            "memory usage: 3.7+ KB\n"
          ],
          "name": "stdout"
        }
      ]
    },
    {
      "cell_type": "code",
      "metadata": {
        "colab": {
          "base_uri": "https://localhost:8080/"
        },
        "id": "KY3C54zY6Qq5",
        "outputId": "1d54c516-b657-43d3-af73-c9ae4ea611e5"
      },
      "source": [
        "df = df[~df['제품명'].str.contains(\"무차\",na=False, case=False)]\n",
        "df.info()"
      ],
      "execution_count": 58,
      "outputs": [
        {
          "output_type": "stream",
          "text": [
            "<class 'pandas.core.frame.DataFrame'>\n",
            "Int64Index: 230 entries, 1 to 659\n",
            "Data columns (total 1 columns):\n",
            " #   Column  Non-Null Count  Dtype \n",
            "---  ------  --------------  ----- \n",
            " 0   제품명     230 non-null    object\n",
            "dtypes: object(1)\n",
            "memory usage: 3.6+ KB\n"
          ],
          "name": "stdout"
        }
      ]
    },
    {
      "cell_type": "code",
      "metadata": {
        "colab": {
          "base_uri": "https://localhost:8080/"
        },
        "id": "AqQD5ieG6TQe",
        "outputId": "e69c643b-f31f-4092-d53c-5b268e905595"
      },
      "source": [
        "df = df[~df['제품명'].str.contains(\"흑무\",na=False, case=False)]\n",
        "df.info()"
      ],
      "execution_count": 59,
      "outputs": [
        {
          "output_type": "stream",
          "text": [
            "<class 'pandas.core.frame.DataFrame'>\n",
            "Int64Index: 224 entries, 1 to 659\n",
            "Data columns (total 1 columns):\n",
            " #   Column  Non-Null Count  Dtype \n",
            "---  ------  --------------  ----- \n",
            " 0   제품명     224 non-null    object\n",
            "dtypes: object(1)\n",
            "memory usage: 3.5+ KB\n"
          ],
          "name": "stdout"
        }
      ]
    },
    {
      "cell_type": "code",
      "metadata": {
        "colab": {
          "base_uri": "https://localhost:8080/"
        },
        "id": "5SAaB1Gq6Vc5",
        "outputId": "49c6c4ad-86ca-400c-c2f5-8f233c51105f"
      },
      "source": [
        "df = df[~df['제품명'].str.contains(\"비트\",na=False, case=False)]\n",
        "df.info()"
      ],
      "execution_count": 60,
      "outputs": [
        {
          "output_type": "stream",
          "text": [
            "<class 'pandas.core.frame.DataFrame'>\n",
            "Int64Index: 212 entries, 1 to 659\n",
            "Data columns (total 1 columns):\n",
            " #   Column  Non-Null Count  Dtype \n",
            "---  ------  --------------  ----- \n",
            " 0   제품명     212 non-null    object\n",
            "dtypes: object(1)\n",
            "memory usage: 3.3+ KB\n"
          ],
          "name": "stdout"
        }
      ]
    },
    {
      "cell_type": "code",
      "metadata": {
        "colab": {
          "base_uri": "https://localhost:8080/"
        },
        "id": "VHdCP_zQ6XV0",
        "outputId": "526f6bc6-df45-4de3-999b-9bbea7720caf"
      },
      "source": [
        "df = df[~df['제품명'].str.contains(\"열무\",na=False, case=False)]\n",
        "df.info()"
      ],
      "execution_count": 61,
      "outputs": [
        {
          "output_type": "stream",
          "text": [
            "<class 'pandas.core.frame.DataFrame'>\n",
            "Int64Index: 209 entries, 1 to 659\n",
            "Data columns (total 1 columns):\n",
            " #   Column  Non-Null Count  Dtype \n",
            "---  ------  --------------  ----- \n",
            " 0   제품명     209 non-null    object\n",
            "dtypes: object(1)\n",
            "memory usage: 3.3+ KB\n"
          ],
          "name": "stdout"
        }
      ]
    },
    {
      "cell_type": "code",
      "metadata": {
        "id": "h4csLERR6YzT"
      },
      "source": [
        "df.to_csv('무이름5.csv',mode='w',encoding='utf-8-sig')"
      ],
      "execution_count": 62,
      "outputs": []
    },
    {
      "cell_type": "code",
      "metadata": {
        "colab": {
          "base_uri": "https://localhost:8080/"
        },
        "id": "jCngTwxm6mln",
        "outputId": "84d20f6c-3e98-487f-85f3-a0bce35721d2"
      },
      "source": [
        "df = df[~df['제품명'].str.contains(\"방울무\",na=False, case=False)]\n",
        "df.info()"
      ],
      "execution_count": 63,
      "outputs": [
        {
          "output_type": "stream",
          "text": [
            "<class 'pandas.core.frame.DataFrame'>\n",
            "Int64Index: 205 entries, 1 to 659\n",
            "Data columns (total 1 columns):\n",
            " #   Column  Non-Null Count  Dtype \n",
            "---  ------  --------------  ----- \n",
            " 0   제품명     205 non-null    object\n",
            "dtypes: object(1)\n",
            "memory usage: 3.2+ KB\n"
          ],
          "name": "stdout"
        }
      ]
    },
    {
      "cell_type": "code",
      "metadata": {
        "colab": {
          "base_uri": "https://localhost:8080/"
        },
        "id": "llvUeHQp7HOZ",
        "outputId": "611ddb5e-6e1a-462a-fe2c-522cc2594b00"
      },
      "source": [
        "df = df[~df['제품명'].str.contains(\"쌈무\",na=False, case=False)]\n",
        "df.info()"
      ],
      "execution_count": 64,
      "outputs": [
        {
          "output_type": "stream",
          "text": [
            "<class 'pandas.core.frame.DataFrame'>\n",
            "Int64Index: 200 entries, 1 to 659\n",
            "Data columns (total 1 columns):\n",
            " #   Column  Non-Null Count  Dtype \n",
            "---  ------  --------------  ----- \n",
            " 0   제품명     200 non-null    object\n",
            "dtypes: object(1)\n",
            "memory usage: 3.1+ KB\n"
          ],
          "name": "stdout"
        }
      ]
    },
    {
      "cell_type": "code",
      "metadata": {
        "colab": {
          "base_uri": "https://localhost:8080/"
        },
        "id": "nUZLCzCQ7JQz",
        "outputId": "fee2d2e7-78a3-41a9-9e8e-456e0764a083"
      },
      "source": [
        "df = df[~df['제품명'].str.contains(\"무우후레이크\",na=False, case=False)]\n",
        "df.info()"
      ],
      "execution_count": 65,
      "outputs": [
        {
          "output_type": "stream",
          "text": [
            "<class 'pandas.core.frame.DataFrame'>\n",
            "Int64Index: 195 entries, 1 to 659\n",
            "Data columns (total 1 columns):\n",
            " #   Column  Non-Null Count  Dtype \n",
            "---  ------  --------------  ----- \n",
            " 0   제품명     195 non-null    object\n",
            "dtypes: object(1)\n",
            "memory usage: 3.0+ KB\n"
          ],
          "name": "stdout"
        }
      ]
    },
    {
      "cell_type": "code",
      "metadata": {
        "colab": {
          "base_uri": "https://localhost:8080/"
        },
        "id": "7zYdHGNd7LNN",
        "outputId": "a1729380-f6ab-4c95-a8a7-8716b7f92d03"
      },
      "source": [
        "df = df[~df['제품명'].str.contains(\"무 조각\",na=False, case=False)]\n",
        "df.info()"
      ],
      "execution_count": 66,
      "outputs": [
        {
          "output_type": "stream",
          "text": [
            "<class 'pandas.core.frame.DataFrame'>\n",
            "Int64Index: 194 entries, 1 to 659\n",
            "Data columns (total 1 columns):\n",
            " #   Column  Non-Null Count  Dtype \n",
            "---  ------  --------------  ----- \n",
            " 0   제품명     194 non-null    object\n",
            "dtypes: object(1)\n",
            "memory usage: 3.0+ KB\n"
          ],
          "name": "stdout"
        }
      ]
    },
    {
      "cell_type": "code",
      "metadata": {
        "colab": {
          "base_uri": "https://localhost:8080/"
        },
        "id": "6zNUA0im7NjX",
        "outputId": "ccbb0406-97d0-4089-f6a6-953d9f899eb2"
      },
      "source": [
        "df = df[~df['제품명'].str.contains(\"무배\",na=False, case=False)]\n",
        "df.info()"
      ],
      "execution_count": 67,
      "outputs": [
        {
          "output_type": "stream",
          "text": [
            "<class 'pandas.core.frame.DataFrame'>\n",
            "Int64Index: 191 entries, 1 to 659\n",
            "Data columns (total 1 columns):\n",
            " #   Column  Non-Null Count  Dtype \n",
            "---  ------  --------------  ----- \n",
            " 0   제품명     191 non-null    object\n",
            "dtypes: object(1)\n",
            "memory usage: 3.0+ KB\n"
          ],
          "name": "stdout"
        }
      ]
    },
    {
      "cell_type": "code",
      "metadata": {
        "colab": {
          "base_uri": "https://localhost:8080/"
        },
        "id": "AlyyT0GC7PHJ",
        "outputId": "e2352293-9920-4219-c230-bd3c4c723ba3"
      },
      "source": [
        "df = df[~df['제품명'].str.contains(\"절인무\",na=False, case=False)]\n",
        "df.info()"
      ],
      "execution_count": 68,
      "outputs": [
        {
          "output_type": "stream",
          "text": [
            "<class 'pandas.core.frame.DataFrame'>\n",
            "Int64Index: 191 entries, 1 to 659\n",
            "Data columns (total 1 columns):\n",
            " #   Column  Non-Null Count  Dtype \n",
            "---  ------  --------------  ----- \n",
            " 0   제품명     191 non-null    object\n",
            "dtypes: object(1)\n",
            "memory usage: 3.0+ KB\n"
          ],
          "name": "stdout"
        }
      ]
    },
    {
      "cell_type": "code",
      "metadata": {
        "colab": {
          "base_uri": "https://localhost:8080/"
        },
        "id": "V0isBjZs7RKQ",
        "outputId": "9b39bbf1-e5b3-43e5-d8a5-f38ae4d53976"
      },
      "source": [
        "df = df[~df['제품명'].str.contains(\"무오신채\",na=False, case=False)]\n",
        "df.info()"
      ],
      "execution_count": 69,
      "outputs": [
        {
          "output_type": "stream",
          "text": [
            "<class 'pandas.core.frame.DataFrame'>\n",
            "Int64Index: 187 entries, 1 to 659\n",
            "Data columns (total 1 columns):\n",
            " #   Column  Non-Null Count  Dtype \n",
            "---  ------  --------------  ----- \n",
            " 0   제품명     187 non-null    object\n",
            "dtypes: object(1)\n",
            "memory usage: 2.9+ KB\n"
          ],
          "name": "stdout"
        }
      ]
    },
    {
      "cell_type": "code",
      "metadata": {
        "id": "V5RSSo-u7TAN"
      },
      "source": [
        "df.to_csv('무이름7.csv',header=False,index=False,encoding='utf-8-sig')"
      ],
      "execution_count": 73,
      "outputs": []
    },
    {
      "cell_type": "code",
      "metadata": {
        "colab": {
          "base_uri": "https://localhost:8080/",
          "height": 417
        },
        "id": "-qezBZXw7WB5",
        "outputId": "340c5523-0577-4af5-deb4-9a15140910c2"
      },
      "source": [
        "#엑셀에서 정말 정말 이상한 친구들을 직접 빼고 다시 파일을 불러옴\n",
        "name = pd.read_csv('/content/sample_data/무이름_쿠팡.csv')\n",
        "name"
      ],
      "execution_count": 76,
      "outputs": [
        {
          "output_type": "execute_result",
          "data": {
            "text/html": [
              "<div>\n",
              "<style scoped>\n",
              "    .dataframe tbody tr th:only-of-type {\n",
              "        vertical-align: middle;\n",
              "    }\n",
              "\n",
              "    .dataframe tbody tr th {\n",
              "        vertical-align: top;\n",
              "    }\n",
              "\n",
              "    .dataframe thead th {\n",
              "        text-align: right;\n",
              "    }\n",
              "</style>\n",
              "<table border=\"1\" class=\"dataframe\">\n",
              "  <thead>\n",
              "    <tr style=\"text-align: right;\">\n",
              "      <th></th>\n",
              "      <th>제품명</th>\n",
              "    </tr>\n",
              "  </thead>\n",
              "  <tbody>\n",
              "    <tr>\n",
              "      <th>0</th>\n",
              "      <td>햇 무 1개 1.5kg내외 팔팔마켓 강원도 큰 무우, kg</td>\n",
              "    </tr>\n",
              "    <tr>\n",
              "      <th>1</th>\n",
              "      <td>무 고랭지 흙 무우 5kg 3개-4개 (택1) 아삭아삭, 단품</td>\n",
              "    </tr>\n",
              "    <tr>\n",
              "      <th>2</th>\n",
              "      <td>제주무 5kg 10kg 월동무 세척무 겨울무 무 제주월동 햇무 한박스 무우,...</td>\n",
              "    </tr>\n",
              "    <tr>\n",
              "      <th>3</th>\n",
              "      <td>국내산 맛있는 햇 무, 1박스, 5kg</td>\n",
              "    </tr>\n",
              "    <tr>\n",
              "      <th>4</th>\n",
              "      <td>영호네농산물 햇 황토 무10kg, 1box, 10kg</td>\n",
              "    </tr>\n",
              "    <tr>\n",
              "      <th>...</th>\n",
              "      <td>...</td>\n",
              "    </tr>\n",
              "    <tr>\n",
              "      <th>126</th>\n",
              "      <td>국내산 무, 900g이상, 1개</td>\n",
              "    </tr>\n",
              "    <tr>\n",
              "      <th>127</th>\n",
              "      <td>친환경인증 무 1입, 1개</td>\n",
              "    </tr>\n",
              "    <tr>\n",
              "      <th>128</th>\n",
              "      <td>국내산 햇무, 900g, 1개</td>\n",
              "    </tr>\n",
              "    <tr>\n",
              "      <th>129</th>\n",
              "      <td>곰곰 친환경 무, 1kg, 1개</td>\n",
              "    </tr>\n",
              "    <tr>\n",
              "      <th>130</th>\n",
              "      <td>국내산 햇 무, 1입, 1개</td>\n",
              "    </tr>\n",
              "  </tbody>\n",
              "</table>\n",
              "<p>131 rows × 1 columns</p>\n",
              "</div>"
            ],
            "text/plain": [
              "                                                   제품명\n",
              "0                     햇 무 1개 1.5kg내외 팔팔마켓 강원도 큰 무우, kg\n",
              "1                   무 고랭지 흙 무우 5kg 3개-4개 (택1) 아삭아삭, 단품\n",
              "2        제주무 5kg 10kg 월동무 세척무 겨울무 무 제주월동 햇무 한박스 무우,...\n",
              "3                                국내산 맛있는 햇 무, 1박스, 5kg\n",
              "4                        영호네농산물 햇 황토 무10kg, 1box, 10kg\n",
              "..                                                 ...\n",
              "126                                  국내산 무, 900g이상, 1개\n",
              "127                                     친환경인증 무 1입, 1개\n",
              "128                                   국내산 햇무, 900g, 1개\n",
              "129                                  곰곰 친환경 무, 1kg, 1개\n",
              "130                                    국내산 햇 무, 1입, 1개\n",
              "\n",
              "[131 rows x 1 columns]"
            ]
          },
          "metadata": {},
          "execution_count": 76
        }
      ]
    },
    {
      "cell_type": "code",
      "metadata": {
        "colab": {
          "base_uri": "https://localhost:8080/"
        },
        "id": "ysAgS7yw_AMK",
        "outputId": "069b9370-ac15-411c-d27c-df64bed1b09d"
      },
      "source": [
        "name = name[~name['제품명'].str.contains(\"팩\",na=False, case=False)]\n",
        "name.info()"
      ],
      "execution_count": 77,
      "outputs": [
        {
          "output_type": "stream",
          "text": [
            "<class 'pandas.core.frame.DataFrame'>\n",
            "Int64Index: 122 entries, 0 to 130\n",
            "Data columns (total 1 columns):\n",
            " #   Column  Non-Null Count  Dtype \n",
            "---  ------  --------------  ----- \n",
            " 0   제품명     122 non-null    object\n",
            "dtypes: object(1)\n",
            "memory usage: 1.9+ KB\n"
          ],
          "name": "stdout"
        }
      ]
    },
    {
      "cell_type": "code",
      "metadata": {
        "colab": {
          "base_uri": "https://localhost:8080/"
        },
        "id": "dfzuQcKUAZQW",
        "outputId": "5e569182-8fc5-4354-aefb-247148135658"
      },
      "source": [
        "name = name[~name['제품명'].str.contains(\"사각무\",na=False, case=False)]\n",
        "name.info()"
      ],
      "execution_count": 78,
      "outputs": [
        {
          "output_type": "stream",
          "text": [
            "<class 'pandas.core.frame.DataFrame'>\n",
            "Int64Index: 122 entries, 0 to 130\n",
            "Data columns (total 1 columns):\n",
            " #   Column  Non-Null Count  Dtype \n",
            "---  ------  --------------  ----- \n",
            " 0   제품명     122 non-null    object\n",
            "dtypes: object(1)\n",
            "memory usage: 1.9+ KB\n"
          ],
          "name": "stdout"
        }
      ]
    },
    {
      "cell_type": "code",
      "metadata": {
        "colab": {
          "base_uri": "https://localhost:8080/"
        },
        "id": "KrHyNwsRBTGS",
        "outputId": "e0fab30a-5fd9-4da7-9a67-593f601d9674"
      },
      "source": [
        "name = name[~name['제품명'].str.contains(\"무청\",na=False, case=False)]\n",
        "name.info()"
      ],
      "execution_count": 79,
      "outputs": [
        {
          "output_type": "stream",
          "text": [
            "<class 'pandas.core.frame.DataFrame'>\n",
            "Int64Index: 121 entries, 0 to 130\n",
            "Data columns (total 1 columns):\n",
            " #   Column  Non-Null Count  Dtype \n",
            "---  ------  --------------  ----- \n",
            " 0   제품명     121 non-null    object\n",
            "dtypes: object(1)\n",
            "memory usage: 1.9+ KB\n"
          ],
          "name": "stdout"
        }
      ]
    },
    {
      "cell_type": "code",
      "metadata": {
        "colab": {
          "base_uri": "https://localhost:8080/"
        },
        "id": "VXs8OUIhBWRy",
        "outputId": "8f53039f-56a6-4d54-95a1-ea1baf9f1da7"
      },
      "source": [
        "name = name[~name['제품명'].str.contains(\"국용\",na=False, case=False)]\n",
        "name.info()"
      ],
      "execution_count": 80,
      "outputs": [
        {
          "output_type": "stream",
          "text": [
            "<class 'pandas.core.frame.DataFrame'>\n",
            "Int64Index: 118 entries, 0 to 130\n",
            "Data columns (total 1 columns):\n",
            " #   Column  Non-Null Count  Dtype \n",
            "---  ------  --------------  ----- \n",
            " 0   제품명     118 non-null    object\n",
            "dtypes: object(1)\n",
            "memory usage: 1.8+ KB\n"
          ],
          "name": "stdout"
        }
      ]
    },
    {
      "cell_type": "code",
      "metadata": {
        "id": "IQGqg8YBBX36"
      },
      "source": [
        "name.to_csv('무이름9.csv',header=False,index=False,encoding='utf-8-sig')"
      ],
      "execution_count": 82,
      "outputs": []
    },
    {
      "cell_type": "code",
      "metadata": {
        "colab": {
          "base_uri": "https://localhost:8080/"
        },
        "id": "3jQLxVu2Baao",
        "outputId": "ed8cdbc5-3edd-4f2b-9c76-487df600f5fe"
      },
      "source": [
        ""
      ],
      "execution_count": 83,
      "outputs": [
        {
          "output_type": "stream",
          "text": [
            "<class 'pandas.core.frame.DataFrame'>\n",
            "Int64Index: 118 entries, 0 to 130\n",
            "Data columns (total 1 columns):\n",
            " #   Column  Non-Null Count  Dtype \n",
            "---  ------  --------------  ----- \n",
            " 0   제품명     118 non-null    object\n",
            "dtypes: object(1)\n",
            "memory usage: 1.8+ KB\n"
          ],
          "name": "stdout"
        }
      ]
    },
    {
      "cell_type": "code",
      "metadata": {
        "colab": {
          "base_uri": "https://localhost:8080/"
        },
        "id": "3lL0hjEFC88K",
        "outputId": "cfb89529-5ea9-480a-8db1-6c2faf60a513"
      },
      "source": [
        "#총 상품의 수\n",
        "len(name)"
      ],
      "execution_count": 85,
      "outputs": [
        {
          "output_type": "execute_result",
          "data": {
            "text/plain": [
              "118"
            ]
          },
          "metadata": {},
          "execution_count": 85
        }
      ]
    },
    {
      "cell_type": "code",
      "metadata": {
        "id": "H0nZ5Os2DES0"
      },
      "source": [
        ""
      ],
      "execution_count": null,
      "outputs": []
    }
  ]
}